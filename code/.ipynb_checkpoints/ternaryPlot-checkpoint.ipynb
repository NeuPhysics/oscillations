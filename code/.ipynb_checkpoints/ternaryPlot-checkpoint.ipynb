{
 "cells": [
  {
   "cell_type": "code",
   "execution_count": 1,
   "metadata": {
    "collapsed": true
   },
   "outputs": [],
   "source": [
    "fz=20"
   ]
  },
  {
   "cell_type": "code",
   "execution_count": 6,
   "metadata": {
    "collapsed": false
   },
   "outputs": [],
   "source": [
    "import ternary\n",
    "from matplotlib import pyplot\n",
    "\n",
    "## Sample trajectory plot\n",
    "figure, tax = ternary.figure(scale=1.0)\n",
    "tax.boundary(color='black')\n",
    "tax.gridlines(multiple=0.2, color=\"black\")\n",
    "tax.set_title(\"Neutrino Flavor Oscillations for x $\\in$ [0,1000]\", fontsize=20)\n",
    "tax.left_axis_label(\"$\\\\nu_\\\\tau$\", fontsize=fz)\n",
    "tax.right_axis_label(\"$\\\\nu_\\\\mu$\", fontsize=fz)\n",
    "tax.bottom_axis_label(\"$\\\\nu_e$\", fontsize=fz)\n",
    "points = []\n",
    "# Load some data, tuples (x,y,z)\n",
    "with open(\"data/ternaryData1000-mu-1.txt\") as handle:\n",
    "    for line in handle:\n",
    "        points.append(map(float, line.split(',')))\n",
    "# Plot the data\n",
    "tax.plot(points, linewidth=2.0, label=\"Neutrino State\")\n",
    "tax.legend()\n",
    "tax.clear_matplotlib_ticks()\n",
    "pyplot.show()"
   ]
  },
  {
   "cell_type": "code",
   "execution_count": null,
   "metadata": {
    "collapsed": true
   },
   "outputs": [],
   "source": []
  }
 ],
 "metadata": {
  "kernelspec": {
   "display_name": "Python 2",
   "language": "python",
   "name": "python2"
  },
  "language_info": {
   "codemirror_mode": {
    "name": "ipython",
    "version": 2
   },
   "file_extension": ".py",
   "mimetype": "text/x-python",
   "name": "python",
   "nbconvert_exporter": "python",
   "pygments_lexer": "ipython2",
   "version": "2.7.9"
  }
 },
 "nbformat": 4,
 "nbformat_minor": 0
}
